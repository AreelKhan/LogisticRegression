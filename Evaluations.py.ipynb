{
 "cells": [
  {
   "cell_type": "code",
   "execution_count": 15,
   "metadata": {},
   "outputs": [],
   "source": [
    "from math import exp\n",
    "import numpy as np\n",
    "\n",
    "from sklearn.model_selection import train_test_split\n",
    "from sklearn.datasets import load_breast_cancer\n",
    "from sklearn.preprocessing import MinMaxScaler\n",
    "from sklearn.metrics import accuracy_score\n",
    "\n",
    "import matplotlib.pyplot as plt\n",
    "\n",
    "from LogisticRegression import LogisticRegression"
   ]
  },
  {
   "cell_type": "markdown",
   "metadata": {},
   "source": [
    "# Test 1\n",
    "For the first test we will draw from two uniform distributions, one from 0 to 1 and the other from -1 to 0. These will represent our two classes."
   ]
  },
  {
   "cell_type": "code",
   "execution_count": 2,
   "metadata": {},
   "outputs": [],
   "source": [
    "class1 = np.random.uniform(low=0, high=1, size=100)\n",
    "class2 = np.random.uniform(low=-1, high=0, size=100)\n",
    "class1_y = np.ones_like(class1)\n",
    "class2_y = np.zeros_like(class2)\n",
    "X = np.concatenate([class1,class2])\n",
    "y = np.concatenate([class1_y, class2_y])\n",
    "X_train, X_test, y_train, y_test = train_test_split(X, y, test_size=0.30, random_state=69)"
   ]
  },
  {
   "cell_type": "code",
   "execution_count": 6,
   "metadata": {},
   "outputs": [],
   "source": [
    "test1_model = LogisticRegression()\n",
    "test1_model.fit(X_train, y_train, learning_rate=0.1, epochs=10000)"
   ]
  },
  {
   "cell_type": "code",
   "execution_count": 9,
   "metadata": {},
   "outputs": [
    {
     "name": "stdout",
     "output_type": "stream",
     "text": [
      "The model accuracy is 1.0\n"
     ]
    }
   ],
   "source": [
    "y_pred = test1_model.pred(X_test)\n",
    "print(f\"The model accuracy is {round(accuracy_score(y_pred, y_test), 5)}\")"
   ]
  },
  {
   "cell_type": "markdown",
   "metadata": {},
   "source": [
    "Therefore, on a artificaly produced data set like the one above, the model performed perfectly."
   ]
  },
  {
   "cell_type": "markdown",
   "metadata": {},
   "source": [
    "# Test 2\n",
    "In this test we will be using the Breast Cancer toy data set from the sklearn library to test the model accuracy. The data is Min-Max scaled before training."
   ]
  },
  {
   "cell_type": "code",
   "execution_count": 5,
   "metadata": {},
   "outputs": [],
   "source": [
    "X, Y = load_breast_cancer(return_X_y=True, as_frame=True)\n",
    "scaler = MinMaxScaler()\n",
    "X_norm = scaler.fit_transform(X)\n",
    "X_train, X_test, y_train, y_test = train_test_split(X_norm, Y, test_size=0.30, random_state=69)"
   ]
  },
  {
   "cell_type": "code",
   "execution_count": 6,
   "metadata": {},
   "outputs": [],
   "source": [
    "test2_model = LogisticRegression()\n",
    "test2_model.fit(X_train, y_train, learning_rate=0.1, epochs=3000)"
   ]
  },
  {
   "cell_type": "code",
   "execution_count": 7,
   "metadata": {},
   "outputs": [
    {
     "name": "stdout",
     "output_type": "stream",
     "text": [
      "The model accuracy is 0.9298\n"
     ]
    }
   ],
   "source": [
    "y_pred = test2_model.pred(X_test)\n",
    "print(f\"The model accuracy is {round(accuracy_score(y_pred, y_test), 4)}\")"
   ]
  }
 ],
 "metadata": {
  "kernelspec": {
   "display_name": "Python 3",
   "language": "python",
   "name": "python3"
  },
  "language_info": {
   "codemirror_mode": {
    "name": "ipython",
    "version": 3
   },
   "file_extension": ".py",
   "mimetype": "text/x-python",
   "name": "python",
   "nbconvert_exporter": "python",
   "pygments_lexer": "ipython3",
   "version": "3.8.5"
  }
 },
 "nbformat": 4,
 "nbformat_minor": 4
}
